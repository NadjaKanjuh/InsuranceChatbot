{
 "cells": [
  {
   "cell_type": "code",
   "execution_count": null,
   "id": "e9edbee6-ec6b-48cb-86cb-23966f552872",
   "metadata": {},
   "outputs": [],
   "source": [
    "pip install sentence-transformers"
   ]
  },
  {
   "cell_type": "code",
   "execution_count": null,
   "id": "57350d67-4d00-4c0d-abb5-11be0dab76ce",
   "metadata": {},
   "outputs": [],
   "source": [
    "pip install accelerate"
   ]
  },
  {
   "cell_type": "code",
   "execution_count": null,
   "id": "9cc4e688-a6e6-4378-858e-a5377d58213c",
   "metadata": {},
   "outputs": [],
   "source": [
    "pip install torch"
   ]
  },
  {
   "cell_type": "code",
   "execution_count": null,
   "id": "dcf21f58-4298-40f4-b0d1-6f4aef36eb65",
   "metadata": {},
   "outputs": [],
   "source": [
    "pip install --upgrade sentence-transformers accelerate"
   ]
  },
  {
   "cell_type": "code",
   "execution_count": 20,
   "id": "a3669044-4827-4fe9-b3f3-0fb39f6d08b5",
   "metadata": {},
   "outputs": [],
   "source": [
    "import time\n",
    "import torch\n",
    "import random\n",
    "import datetime\n",
    "import numpy as np\n",
    "import pandas as pd\n",
    "\n",
    "from tqdm import tqdm\n",
    "from torch.optim import AdamW\n",
    "import matplotlib.pyplot as plt\n",
    "from datasets import load_dataset\n",
    "from transformers import BertTokenizer\n",
    "from torch.utils.data import DataLoader\n",
    "from transformers import get_linear_schedule_with_warmup\n",
    "from sentence_transformers import SentenceTransformer, models"
   ]
  },
  {
   "cell_type": "code",
   "execution_count": 2,
   "id": "dc9efa87-12f0-45cf-8478-f554e4ea8bd9",
   "metadata": {},
   "outputs": [
    {
     "name": "stdout",
     "output_type": "stream",
     "text": [
      "There are 1 GPU(s) available.\n",
      "We will use the GPU: NVIDIA A100-SXM4-40GB\n"
     ]
    }
   ],
   "source": [
    "if torch.cuda.is_available():    \n",
    "    device = torch.device(\"cuda\")\n",
    "    print(f'There are {torch.cuda.device_count()} GPU(s) available.')\n",
    "    print('We will use the GPU:', torch.cuda.get_device_name(0))\n",
    "else:\n",
    "    print('No GPU available, using the CPU instead.')\n",
    "    device = torch.device(\"cpu\")"
   ]
  },
  {
   "cell_type": "code",
   "execution_count": 3,
   "id": "8f8ba155-1799-48f3-b7f2-fdf9466d99d7",
   "metadata": {},
   "outputs": [
    {
     "name": "stdout",
     "output_type": "stream",
     "text": [
      "DatasetDict({\n",
      "    train: Dataset({\n",
      "        features: ['sentence1', 'sentence2', 'similarity_score'],\n",
      "        num_rows: 5749\n",
      "    })\n",
      "    test: Dataset({\n",
      "        features: ['sentence1', 'sentence2', 'similarity_score'],\n",
      "        num_rows: 1379\n",
      "    })\n",
      "    dev: Dataset({\n",
      "        features: ['sentence1', 'sentence2', 'similarity_score'],\n",
      "        num_rows: 1500\n",
      "    })\n",
      "})\n"
     ]
    }
   ],
   "source": [
    "dataset = load_dataset(\"stsb_multi_mt\", \"en\")\n",
    "print(dataset)"
   ]
  },
  {
   "cell_type": "code",
   "execution_count": 4,
   "id": "bffc2403-c33d-41e1-a2d4-7a0fe50310c7",
   "metadata": {},
   "outputs": [
    {
     "name": "stdout",
     "output_type": "stream",
     "text": [
      "A sample from the dataset's training split:\n",
      "{'sentence1': 'A man is slicing potatoes.', 'sentence2': 'A woman is peeling potato.', 'similarity_score': 2.200000047683716}\n"
     ]
    }
   ],
   "source": [
    "print(\"A sample from the dataset's training split:\")\n",
    "print(dataset['train'][98])"
   ]
  },
  {
   "cell_type": "code",
   "execution_count": 5,
   "id": "83f64d8d-5996-4c08-9265-76078962599b",
   "metadata": {},
   "outputs": [
    {
     "name": "stderr",
     "output_type": "stream",
     "text": [
      "The tokenizer class you load from this checkpoint is not the same type as the class this function is called from. It may result in unexpected tokenization. \n",
      "The tokenizer class you load from this checkpoint is 'DistilBertTokenizer'. \n",
      "The class this function is called from is 'BertTokenizer'.\n",
      "/home/vladimir.vincan.ivi/.local/lib/python3.8/site-packages/transformers/tokenization_utils_base.py:1601: FutureWarning: `clean_up_tokenization_spaces` was not set. It will be set to `True` by default. This behavior will be depracted in transformers v4.45, and will be then set to `False` by default. For more details check this issue: https://github.com/huggingface/transformers/issues/31884\n",
      "  warnings.warn(\n"
     ]
    }
   ],
   "source": [
    "tokenizer = BertTokenizer.from_pretrained('distilbert-base-uncased')"
   ]
  },
  {
   "cell_type": "code",
   "execution_count": 6,
   "id": "818e700e-18bb-4f66-835b-45c5f738c3c1",
   "metadata": {},
   "outputs": [],
   "source": [
    "class STSBDataset(torch.utils.data.Dataset):\n",
    "\n",
    "    def __init__(self, dataset):\n",
    "        # Normalize the similarity scores in the dataset\n",
    "        similarity_scores = [i['similarity_score'] for i in dataset]\n",
    "        self.normalized_similarity_scores = [i/5.0 for i in similarity_scores]\n",
    "        self.first_sentences = [i['sentence1'] for i in dataset]\n",
    "        self.second_sentences = [i['sentence2'] for i in dataset]\n",
    "        self.concatenated_sentences = [[str(x), str(y)] for x,y in   zip(self.first_sentences, self.second_sentences)]\n",
    "\n",
    "    def __len__(self):\n",
    "        return len(self.concatenated_sentences)\n",
    "\n",
    "    def get_batch_labels(self, idx):\n",
    "        return torch.tensor(self.normalized_similarity_scores[idx])\n",
    "\n",
    "    def get_batch_texts(self, idx):\n",
    "        return tokenizer(self.concatenated_sentences[idx], padding='max_length', max_length=128, truncation=True, return_tensors=\"pt\")\n",
    "\n",
    "    def __getitem__(self, idx):\n",
    "        batch_texts = self.get_batch_texts(idx)\n",
    "        batch_y = self.get_batch_labels(idx)\n",
    "        return batch_texts, batch_y\n",
    "\n",
    "\n",
    "def collate_fn(texts):\n",
    "    input_ids = texts['input_ids']\n",
    "    attention_masks = texts['attention_mask']\n",
    "    features = [{'input_ids': input_id, 'attention_mask': attention_mask}\n",
    "                for input_id, attention_mask in zip(input_ids, attention_masks)]\n",
    "    return features"
   ]
  },
  {
   "cell_type": "code",
   "execution_count": 7,
   "id": "4298b64a-8a11-4af1-801b-87314d47ac74",
   "metadata": {},
   "outputs": [],
   "source": [
    "class BertForSTS(torch.nn.Module):\n",
    "\n",
    "    def __init__(self):\n",
    "        super(BertForSTS, self).__init__()\n",
    "        self.bert = models.Transformer('distilbert-base-uncased', max_seq_length=64)\n",
    "        self.pooling_layer = models.Pooling(self.bert.get_word_embedding_dimension())\n",
    "        self.sts_bert = SentenceTransformer(modules=[self.bert, self.pooling_layer])\n",
    "\n",
    "    def forward(self, input_data):\n",
    "        output = self.sts_bert(input_data)['sentence_embedding']\n",
    "        return output"
   ]
  },
  {
   "cell_type": "code",
   "execution_count": 8,
   "id": "8b58bcb6-e9eb-494d-99f7-759ce9331f21",
   "metadata": {},
   "outputs": [],
   "source": [
    "# Instantiate the model and move it to GPU\n",
    "model = BertForSTS()\n",
    "model.to(device)\n",
    "torch.cuda.empty_cache()"
   ]
  },
  {
   "cell_type": "code",
   "execution_count": 10,
   "id": "5d02fd4e-9914-4dc0-8926-1ebb5e497a51",
   "metadata": {},
   "outputs": [],
   "source": [
    "class CosineSimilarityLoss(torch.nn.Module):\n",
    "\n",
    "    def __init__(self,  loss_fn=torch.nn.MSELoss(), transform_fn=torch.nn.Identity()):\n",
    "        super(CosineSimilarityLoss, self).__init__()\n",
    "        self.loss_fn = loss_fn\n",
    "        self.transform_fn = transform_fn\n",
    "        self.cos_similarity = torch.nn.CosineSimilarity(dim=1)\n",
    "\n",
    "    def forward(self, inputs, labels):\n",
    "        emb_1 = torch.stack([inp[0] for inp in inputs])\n",
    "        emb_2 = torch.stack([inp[1] for inp in inputs])\n",
    "        outputs = self.transform_fn(self.cos_similarity(emb_1, emb_2))\n",
    "        return self.loss_fn(outputs, labels.squeeze())"
   ]
  },
  {
   "cell_type": "code",
   "execution_count": 11,
   "id": "259ed81e-6620-4c9b-924c-ccac8bed5bd9",
   "metadata": {},
   "outputs": [
    {
     "name": "stdout",
     "output_type": "stream",
     "text": [
      "5749 training samples\n",
      "1500 validation samples\n"
     ]
    }
   ],
   "source": [
    "train_ds = STSBDataset(dataset['train'])\n",
    "val_ds = STSBDataset(dataset['dev'])\n",
    "\n",
    "# Create a 90-10 train-validation split.\n",
    "train_size = len(train_ds)\n",
    "val_size = len(val_ds)\n",
    "\n",
    "print(f'{train_size} training samples')\n",
    "print(f'{val_size} validation samples')"
   ]
  },
  {
   "cell_type": "code",
   "execution_count": 12,
   "id": "8d56fd97-661d-488c-b8c4-c6a3db21d142",
   "metadata": {},
   "outputs": [],
   "source": [
    "batch_size = 256\n",
    "\n",
    "train_dataloader = DataLoader(\n",
    "            train_ds,  # The training samples.\n",
    "            num_workers = 4,\n",
    "            batch_size = batch_size, # Use this batch size.\n",
    "            shuffle=True # Select samples randomly for each batch\n",
    "        )\n",
    "\n",
    "validation_dataloader = DataLoader(\n",
    "            val_ds,\n",
    "            num_workers = 4,\n",
    "            batch_size = batch_size # Use the same batch size\n",
    "        )"
   ]
  },
  {
   "cell_type": "code",
   "execution_count": 13,
   "id": "0f54d381-56d2-4806-ac04-f2ba49013405",
   "metadata": {},
   "outputs": [],
   "source": [
    "optimizer = AdamW(model.parameters(),\n",
    "                  lr = 1e-6)\n",
    "epochs = 150\n",
    "# Total number of training steps is [number of batches] x [number of epochs].\n",
    "total_steps = len(train_dataloader) * epochs\n",
    "scheduler = get_linear_schedule_with_warmup(optimizer,\n",
    "                                            num_warmup_steps = 0,\n",
    "                                            num_training_steps = total_steps)\n",
    "criterion=CosineSimilarityLoss()"
   ]
  },
  {
   "cell_type": "code",
   "execution_count": 14,
   "id": "eba27cea-2c01-4aa9-ae7e-fd14959c8be6",
   "metadata": {},
   "outputs": [],
   "source": [
    "class EarlyStopping:\n",
    "    \"\"\"\n",
    "    Early stops the training if validation loss doesn't improve after a given patience.\n",
    "    \"\"\"\n",
    "    def __init__(self, patience=3, min_delta=0.01):\n",
    "        self.patience = patience\n",
    "        self.min_delta = min_delta\n",
    "        self.counter = 0\n",
    "        self.best_loss = None\n",
    "        self.early_stop = False\n",
    "\n",
    "    def __call__(self, val_loss):\n",
    "        if self.best_loss is None:\n",
    "            self.best_loss = val_loss\n",
    "        elif val_loss > self.best_loss - self.min_delta:\n",
    "            self.counter += 1\n",
    "            if self.counter >= self.patience:\n",
    "                self.early_stop = True\n",
    "        else:\n",
    "            self.best_loss = val_loss\n",
    "            self.counter = 0\n"
   ]
  },
  {
   "cell_type": "code",
   "execution_count": 15,
   "id": "ad0e078f-1d6c-4b23-8a05-92f82bda1761",
   "metadata": {},
   "outputs": [],
   "source": [
    "def train_epoch(model, train_dataloader, optimizer, scheduler, criterion, device, collate_fn):\n",
    "    \"\"\"\n",
    "    Runs one epoch of training.\n",
    "    \"\"\"\n",
    "    total_train_loss = 0\n",
    "    model.train()\n",
    "\n",
    "    for train_data, train_label in tqdm(train_dataloader):\n",
    "        train_data['input_ids'] = train_data['input_ids'].to(device)\n",
    "        train_data['attention_mask'] = train_data['attention_mask'].to(device)\n",
    "        train_data = collate_fn(train_data)\n",
    "\n",
    "        model.zero_grad()\n",
    "\n",
    "        # Get model output\n",
    "        output = [model(feature) for feature in train_data]\n",
    "\n",
    "        # Calculate loss\n",
    "        loss = criterion(output, train_label.to(device))\n",
    "        total_train_loss += loss.item()\n",
    "\n",
    "        # Backward pass\n",
    "        loss.backward()\n",
    "\n",
    "        # Clip gradients\n",
    "        torch.nn.utils.clip_grad_norm_(model.parameters(), 1.0)\n",
    "\n",
    "        # Update parameters and learning rate\n",
    "        optimizer.step()\n",
    "        scheduler.step()\n",
    "\n",
    "    avg_train_loss = total_train_loss / len(train_dataloader)\n",
    "\n",
    "    return avg_train_loss\n",
    "\n",
    "\n",
    "def validate_epoch(model, validation_dataloader, criterion, device, collate_fn):\n",
    "    \"\"\"\n",
    "    Runs one epoch of validation.\n",
    "    \"\"\"\n",
    "    total_eval_loss = 0\n",
    "    model.eval()\n",
    "\n",
    "    for val_data, val_label in tqdm(validation_dataloader):\n",
    "        val_data['input_ids'] = val_data['input_ids'].to(device)\n",
    "        val_data['attention_mask'] = val_data['attention_mask'].to(device)\n",
    "        val_data = collate_fn(val_data)\n",
    "\n",
    "        with torch.no_grad():\n",
    "            output = [model(feature) for feature in val_data]\n",
    "\n",
    "        # Calculate loss\n",
    "        loss = criterion(output, val_label.to(device))\n",
    "        total_eval_loss += loss.item()\n",
    "\n",
    "    avg_val_loss = total_eval_loss / len(validation_dataloader)\n",
    "\n",
    "    return avg_val_loss"
   ]
  },
  {
   "cell_type": "code",
   "execution_count": 16,
   "id": "bf0af21e-ea16-489a-bc5a-97509fe62a07",
   "metadata": {},
   "outputs": [],
   "source": [
    "def train(model, train_dataloader, validation_dataloader, optimizer, scheduler, criterion, device, collate_fn, epochs, patience=5, min_delta=0.0001):\n",
    "    \"\"\"\n",
    "    Combines training and validation over multiple epochs, with early stopping.\n",
    "    \"\"\"\n",
    "    seed_val = 42\n",
    "    random.seed(seed_val)\n",
    "    torch.manual_seed(seed_val)\n",
    "\n",
    "    early_stopping = EarlyStopping(patience=patience, min_delta=min_delta)\n",
    "    training_stats = []\n",
    "\n",
    "    for epoch_i in range(0, epochs):\n",
    "        print(f\"Epoch {epoch_i + 1}/{epochs}\")\n",
    "\n",
    "        # Train for one epoch\n",
    "        avg_train_loss = train_epoch(model, train_dataloader, optimizer, scheduler, criterion, device, collate_fn)\n",
    "\n",
    "        # Validation for one epoch\n",
    "        avg_val_loss = validate_epoch(model, validation_dataloader, criterion, device, collate_fn)\n",
    "\n",
    "        # Record all statistics from this epoch\n",
    "        training_stats.append({\n",
    "            'epoch': epoch_i + 1,\n",
    "            'Training Loss': avg_train_loss,\n",
    "            'Validation Loss': avg_val_loss,\n",
    "        })\n",
    "\n",
    "        print(f\"Training Loss: {avg_train_loss:.3f}\")\n",
    "        print(f\"Validation Loss: {avg_val_loss:.3f}\")\n",
    "\n",
    "        # Check for early stopping\n",
    "        early_stopping(avg_val_loss)\n",
    "        if early_stopping.early_stop:\n",
    "            print(\"Early stopping triggered. Stopping training.\")\n",
    "            break\n",
    "\n",
    "    # Plot training and validation loss\n",
    "    epochs = [stat['epoch'] for stat in training_stats]\n",
    "    train_losses = [stat['Training Loss'] for stat in training_stats]\n",
    "    val_losses = [stat['Validation Loss'] for stat in training_stats]\n",
    "\n",
    "    plt.figure(figsize=(10, 5))\n",
    "    plt.plot(epochs, train_losses, label='Training Loss', linestyle='-')\n",
    "    plt.plot(epochs, val_losses, label='Validation Loss', linestyle='-')\n",
    "    plt.title('Training and Validation Loss Over Epochs')\n",
    "    plt.xlabel('Epochs')\n",
    "    plt.ylabel('Loss')\n",
    "    plt.xticks(ticks=epochs[::5])\n",
    "    plt.legend()\n",
    "    plt.grid()\n",
    "    plt.show()\n",
    "\n",
    "    return model, training_stats"
   ]
  },
  {
   "cell_type": "code",
   "execution_count": 17,
   "id": "9db94745-11ab-45f3-898b-8c523ee43280",
   "metadata": {},
   "outputs": [],
   "source": [
    "def save_bert_model(model, model_weights_filename='bert_model_weights.pth'):\n",
    "    \"\"\"\n",
    "    Saves the BERT model's state dictionary.\n",
    "\n",
    "    Args:\n",
    "        model (torch.nn.Module): The BERT model to save.\n",
    "        model_weights_filename (str): Filename to save the model weights. Defaults to 'bert_model_weights.pth'.\n",
    "    \"\"\"\n",
    "    # Save model weights\n",
    "    torch.save(model.state_dict(), model_weights_filename)\n",
    "    print(f\"Model weights saved as {model_weights_filename}\")"
   ]
  },
  {
   "cell_type": "code",
   "execution_count": 18,
   "id": "0e000bea-679e-45b0-a917-f56d1b207d9f",
   "metadata": {},
   "outputs": [
    {
     "name": "stdout",
     "output_type": "stream",
     "text": [
      "Epoch 1/150\n"
     ]
    },
    {
     "name": "stderr",
     "output_type": "stream",
     "text": [
      "100%|██████████| 23/23 [01:24<00:00,  3.67s/it]\n",
      "100%|██████████| 6/6 [00:06<00:00,  1.08s/it]\n"
     ]
    },
    {
     "name": "stdout",
     "output_type": "stream",
     "text": [
      "Training Loss: 0.180\n",
      "Validation Loss: 0.205\n",
      "Epoch 2/150\n"
     ]
    },
    {
     "name": "stderr",
     "output_type": "stream",
     "text": [
      "100%|██████████| 23/23 [01:09<00:00,  3.04s/it]\n",
      "100%|██████████| 6/6 [00:06<00:00,  1.09s/it]\n"
     ]
    },
    {
     "name": "stdout",
     "output_type": "stream",
     "text": [
      "Training Loss: 0.163\n",
      "Validation Loss: 0.185\n",
      "Epoch 3/150\n"
     ]
    },
    {
     "name": "stderr",
     "output_type": "stream",
     "text": [
      "100%|██████████| 23/23 [01:15<00:00,  3.28s/it]\n",
      "100%|██████████| 6/6 [00:07<00:00,  1.17s/it]\n"
     ]
    },
    {
     "name": "stdout",
     "output_type": "stream",
     "text": [
      "Training Loss: 0.145\n",
      "Validation Loss: 0.165\n",
      "Epoch 4/150\n"
     ]
    },
    {
     "name": "stderr",
     "output_type": "stream",
     "text": [
      "100%|██████████| 23/23 [01:14<00:00,  3.25s/it]\n",
      "100%|██████████| 6/6 [00:06<00:00,  1.10s/it]\n"
     ]
    },
    {
     "name": "stdout",
     "output_type": "stream",
     "text": [
      "Training Loss: 0.129\n",
      "Validation Loss: 0.147\n",
      "Epoch 5/150\n"
     ]
    },
    {
     "name": "stderr",
     "output_type": "stream",
     "text": [
      "100%|██████████| 23/23 [01:11<00:00,  3.09s/it]\n",
      "100%|██████████| 6/6 [00:06<00:00,  1.11s/it]\n"
     ]
    },
    {
     "name": "stdout",
     "output_type": "stream",
     "text": [
      "Training Loss: 0.115\n",
      "Validation Loss: 0.132\n",
      "Epoch 6/150\n"
     ]
    },
    {
     "name": "stderr",
     "output_type": "stream",
     "text": [
      "100%|██████████| 23/23 [01:11<00:00,  3.13s/it]\n",
      "100%|██████████| 6/6 [00:06<00:00,  1.11s/it]\n"
     ]
    },
    {
     "name": "stdout",
     "output_type": "stream",
     "text": [
      "Training Loss: 0.103\n",
      "Validation Loss: 0.118\n",
      "Epoch 7/150\n"
     ]
    },
    {
     "name": "stderr",
     "output_type": "stream",
     "text": [
      "100%|██████████| 23/23 [01:11<00:00,  3.11s/it]\n",
      "100%|██████████| 6/6 [00:06<00:00,  1.15s/it]\n"
     ]
    },
    {
     "name": "stdout",
     "output_type": "stream",
     "text": [
      "Training Loss: 0.092\n",
      "Validation Loss: 0.107\n",
      "Epoch 8/150\n"
     ]
    },
    {
     "name": "stderr",
     "output_type": "stream",
     "text": [
      "100%|██████████| 23/23 [01:10<00:00,  3.09s/it]\n",
      "100%|██████████| 6/6 [00:06<00:00,  1.13s/it]\n"
     ]
    },
    {
     "name": "stdout",
     "output_type": "stream",
     "text": [
      "Training Loss: 0.083\n",
      "Validation Loss: 0.097\n",
      "Epoch 9/150\n"
     ]
    },
    {
     "name": "stderr",
     "output_type": "stream",
     "text": [
      "100%|██████████| 23/23 [01:11<00:00,  3.11s/it]\n",
      "100%|██████████| 6/6 [00:06<00:00,  1.11s/it]\n"
     ]
    },
    {
     "name": "stdout",
     "output_type": "stream",
     "text": [
      "Training Loss: 0.074\n",
      "Validation Loss: 0.089\n",
      "Epoch 10/150\n"
     ]
    },
    {
     "name": "stderr",
     "output_type": "stream",
     "text": [
      "100%|██████████| 23/23 [01:11<00:00,  3.11s/it]\n",
      "100%|██████████| 6/6 [00:06<00:00,  1.10s/it]\n"
     ]
    },
    {
     "name": "stdout",
     "output_type": "stream",
     "text": [
      "Training Loss: 0.068\n",
      "Validation Loss: 0.082\n",
      "Epoch 11/150\n"
     ]
    },
    {
     "name": "stderr",
     "output_type": "stream",
     "text": [
      "100%|██████████| 23/23 [01:11<00:00,  3.11s/it]\n",
      "100%|██████████| 6/6 [00:06<00:00,  1.12s/it]\n"
     ]
    },
    {
     "name": "stdout",
     "output_type": "stream",
     "text": [
      "Training Loss: 0.062\n",
      "Validation Loss: 0.076\n",
      "Epoch 12/150\n"
     ]
    },
    {
     "name": "stderr",
     "output_type": "stream",
     "text": [
      "100%|██████████| 23/23 [01:11<00:00,  3.10s/it]\n",
      "100%|██████████| 6/6 [00:06<00:00,  1.12s/it]\n"
     ]
    },
    {
     "name": "stdout",
     "output_type": "stream",
     "text": [
      "Training Loss: 0.058\n",
      "Validation Loss: 0.072\n",
      "Epoch 13/150\n"
     ]
    },
    {
     "name": "stderr",
     "output_type": "stream",
     "text": [
      "100%|██████████| 23/23 [01:11<00:00,  3.10s/it]\n",
      "100%|██████████| 6/6 [00:06<00:00,  1.11s/it]\n"
     ]
    },
    {
     "name": "stdout",
     "output_type": "stream",
     "text": [
      "Training Loss: 0.054\n",
      "Validation Loss: 0.068\n",
      "Epoch 14/150\n"
     ]
    },
    {
     "name": "stderr",
     "output_type": "stream",
     "text": [
      "100%|██████████| 23/23 [01:13<00:00,  3.19s/it]\n",
      "100%|██████████| 6/6 [00:06<00:00,  1.14s/it]\n"
     ]
    },
    {
     "name": "stdout",
     "output_type": "stream",
     "text": [
      "Training Loss: 0.051\n",
      "Validation Loss: 0.064\n",
      "Epoch 15/150\n"
     ]
    },
    {
     "name": "stderr",
     "output_type": "stream",
     "text": [
      "100%|██████████| 23/23 [01:12<00:00,  3.16s/it]\n",
      "100%|██████████| 6/6 [00:07<00:00,  1.20s/it]\n"
     ]
    },
    {
     "name": "stdout",
     "output_type": "stream",
     "text": [
      "Training Loss: 0.048\n",
      "Validation Loss: 0.061\n",
      "Epoch 16/150\n"
     ]
    },
    {
     "name": "stderr",
     "output_type": "stream",
     "text": [
      "100%|██████████| 23/23 [01:13<00:00,  3.18s/it]\n",
      "100%|██████████| 6/6 [00:06<00:00,  1.15s/it]\n"
     ]
    },
    {
     "name": "stdout",
     "output_type": "stream",
     "text": [
      "Training Loss: 0.046\n",
      "Validation Loss: 0.059\n",
      "Epoch 17/150\n"
     ]
    },
    {
     "name": "stderr",
     "output_type": "stream",
     "text": [
      "100%|██████████| 23/23 [01:12<00:00,  3.17s/it]\n",
      "100%|██████████| 6/6 [00:06<00:00,  1.15s/it]\n"
     ]
    },
    {
     "name": "stdout",
     "output_type": "stream",
     "text": [
      "Training Loss: 0.044\n",
      "Validation Loss: 0.057\n",
      "Epoch 18/150\n"
     ]
    },
    {
     "name": "stderr",
     "output_type": "stream",
     "text": [
      "100%|██████████| 23/23 [01:13<00:00,  3.18s/it]\n",
      "100%|██████████| 6/6 [00:06<00:00,  1.14s/it]\n"
     ]
    },
    {
     "name": "stdout",
     "output_type": "stream",
     "text": [
      "Training Loss: 0.043\n",
      "Validation Loss: 0.055\n",
      "Epoch 19/150\n"
     ]
    },
    {
     "name": "stderr",
     "output_type": "stream",
     "text": [
      "100%|██████████| 23/23 [01:12<00:00,  3.15s/it]\n",
      "100%|██████████| 6/6 [00:07<00:00,  1.17s/it]\n"
     ]
    },
    {
     "name": "stdout",
     "output_type": "stream",
     "text": [
      "Training Loss: 0.041\n",
      "Validation Loss: 0.053\n",
      "Epoch 20/150\n"
     ]
    },
    {
     "name": "stderr",
     "output_type": "stream",
     "text": [
      "100%|██████████| 23/23 [01:13<00:00,  3.18s/it]\n",
      "100%|██████████| 6/6 [00:06<00:00,  1.14s/it]\n"
     ]
    },
    {
     "name": "stdout",
     "output_type": "stream",
     "text": [
      "Training Loss: 0.039\n",
      "Validation Loss: 0.052\n",
      "Epoch 21/150\n"
     ]
    },
    {
     "name": "stderr",
     "output_type": "stream",
     "text": [
      "100%|██████████| 23/23 [01:11<00:00,  3.12s/it]\n",
      "100%|██████████| 6/6 [00:06<00:00,  1.16s/it]\n"
     ]
    },
    {
     "name": "stdout",
     "output_type": "stream",
     "text": [
      "Training Loss: 0.039\n",
      "Validation Loss: 0.051\n",
      "Epoch 22/150\n"
     ]
    },
    {
     "name": "stderr",
     "output_type": "stream",
     "text": [
      "100%|██████████| 23/23 [01:12<00:00,  3.13s/it]\n",
      "100%|██████████| 6/6 [00:06<00:00,  1.16s/it]\n"
     ]
    },
    {
     "name": "stdout",
     "output_type": "stream",
     "text": [
      "Training Loss: 0.037\n",
      "Validation Loss: 0.049\n",
      "Epoch 23/150\n"
     ]
    },
    {
     "name": "stderr",
     "output_type": "stream",
     "text": [
      "100%|██████████| 23/23 [01:12<00:00,  3.13s/it]\n",
      "100%|██████████| 6/6 [00:06<00:00,  1.12s/it]\n"
     ]
    },
    {
     "name": "stdout",
     "output_type": "stream",
     "text": [
      "Training Loss: 0.036\n",
      "Validation Loss: 0.048\n",
      "Epoch 24/150\n"
     ]
    },
    {
     "name": "stderr",
     "output_type": "stream",
     "text": [
      "100%|██████████| 23/23 [01:12<00:00,  3.15s/it]\n",
      "100%|██████████| 6/6 [00:06<00:00,  1.12s/it]\n"
     ]
    },
    {
     "name": "stdout",
     "output_type": "stream",
     "text": [
      "Training Loss: 0.036\n",
      "Validation Loss: 0.047\n",
      "Epoch 25/150\n"
     ]
    },
    {
     "name": "stderr",
     "output_type": "stream",
     "text": [
      "100%|██████████| 23/23 [01:12<00:00,  3.16s/it]\n",
      "100%|██████████| 6/6 [00:06<00:00,  1.14s/it]\n"
     ]
    },
    {
     "name": "stdout",
     "output_type": "stream",
     "text": [
      "Training Loss: 0.035\n",
      "Validation Loss: 0.046\n",
      "Epoch 26/150\n"
     ]
    },
    {
     "name": "stderr",
     "output_type": "stream",
     "text": [
      "100%|██████████| 23/23 [01:12<00:00,  3.14s/it]\n",
      "100%|██████████| 6/6 [00:06<00:00,  1.15s/it]\n"
     ]
    },
    {
     "name": "stdout",
     "output_type": "stream",
     "text": [
      "Training Loss: 0.034\n",
      "Validation Loss: 0.046\n",
      "Epoch 27/150\n"
     ]
    },
    {
     "name": "stderr",
     "output_type": "stream",
     "text": [
      "100%|██████████| 23/23 [01:12<00:00,  3.13s/it]\n",
      "100%|██████████| 6/6 [00:06<00:00,  1.13s/it]\n"
     ]
    },
    {
     "name": "stdout",
     "output_type": "stream",
     "text": [
      "Training Loss: 0.033\n",
      "Validation Loss: 0.045\n",
      "Epoch 28/150\n"
     ]
    },
    {
     "name": "stderr",
     "output_type": "stream",
     "text": [
      "100%|██████████| 23/23 [01:12<00:00,  3.16s/it]\n",
      "100%|██████████| 6/6 [00:06<00:00,  1.15s/it]\n"
     ]
    },
    {
     "name": "stdout",
     "output_type": "stream",
     "text": [
      "Training Loss: 0.033\n",
      "Validation Loss: 0.044\n",
      "Epoch 29/150\n"
     ]
    },
    {
     "name": "stderr",
     "output_type": "stream",
     "text": [
      "100%|██████████| 23/23 [01:12<00:00,  3.14s/it]\n",
      "100%|██████████| 6/6 [00:06<00:00,  1.14s/it]\n"
     ]
    },
    {
     "name": "stdout",
     "output_type": "stream",
     "text": [
      "Training Loss: 0.032\n",
      "Validation Loss: 0.043\n",
      "Epoch 30/150\n"
     ]
    },
    {
     "name": "stderr",
     "output_type": "stream",
     "text": [
      "100%|██████████| 23/23 [01:13<00:00,  3.18s/it]\n",
      "100%|██████████| 6/6 [00:06<00:00,  1.13s/it]\n"
     ]
    },
    {
     "name": "stdout",
     "output_type": "stream",
     "text": [
      "Training Loss: 0.031\n",
      "Validation Loss: 0.043\n",
      "Epoch 31/150\n"
     ]
    },
    {
     "name": "stderr",
     "output_type": "stream",
     "text": [
      "100%|██████████| 23/23 [01:12<00:00,  3.15s/it]\n",
      "100%|██████████| 6/6 [00:06<00:00,  1.15s/it]\n"
     ]
    },
    {
     "name": "stdout",
     "output_type": "stream",
     "text": [
      "Training Loss: 0.031\n",
      "Validation Loss: 0.042\n",
      "Epoch 32/150\n"
     ]
    },
    {
     "name": "stderr",
     "output_type": "stream",
     "text": [
      "100%|██████████| 23/23 [01:12<00:00,  3.14s/it]\n",
      "100%|██████████| 6/6 [00:06<00:00,  1.15s/it]\n"
     ]
    },
    {
     "name": "stdout",
     "output_type": "stream",
     "text": [
      "Training Loss: 0.030\n",
      "Validation Loss: 0.042\n",
      "Epoch 33/150\n"
     ]
    },
    {
     "name": "stderr",
     "output_type": "stream",
     "text": [
      "100%|██████████| 23/23 [01:13<00:00,  3.19s/it]\n",
      "100%|██████████| 6/6 [00:06<00:00,  1.15s/it]\n"
     ]
    },
    {
     "name": "stdout",
     "output_type": "stream",
     "text": [
      "Training Loss: 0.030\n",
      "Validation Loss: 0.041\n",
      "Epoch 34/150\n"
     ]
    },
    {
     "name": "stderr",
     "output_type": "stream",
     "text": [
      "100%|██████████| 23/23 [01:11<00:00,  3.12s/it]\n",
      "100%|██████████| 6/6 [00:06<00:00,  1.14s/it]\n"
     ]
    },
    {
     "name": "stdout",
     "output_type": "stream",
     "text": [
      "Training Loss: 0.029\n",
      "Validation Loss: 0.041\n",
      "Epoch 35/150\n"
     ]
    },
    {
     "name": "stderr",
     "output_type": "stream",
     "text": [
      "100%|██████████| 23/23 [01:11<00:00,  3.12s/it]\n",
      "100%|██████████| 6/6 [00:06<00:00,  1.13s/it]\n"
     ]
    },
    {
     "name": "stdout",
     "output_type": "stream",
     "text": [
      "Training Loss: 0.029\n",
      "Validation Loss: 0.040\n",
      "Epoch 36/150\n"
     ]
    },
    {
     "name": "stderr",
     "output_type": "stream",
     "text": [
      "100%|██████████| 23/23 [01:11<00:00,  3.13s/it]\n",
      "100%|██████████| 6/6 [00:06<00:00,  1.11s/it]\n"
     ]
    },
    {
     "name": "stdout",
     "output_type": "stream",
     "text": [
      "Training Loss: 0.028\n",
      "Validation Loss: 0.040\n",
      "Epoch 37/150\n"
     ]
    },
    {
     "name": "stderr",
     "output_type": "stream",
     "text": [
      "100%|██████████| 23/23 [01:11<00:00,  3.13s/it]\n",
      "100%|██████████| 6/6 [00:06<00:00,  1.13s/it]\n"
     ]
    },
    {
     "name": "stdout",
     "output_type": "stream",
     "text": [
      "Training Loss: 0.028\n",
      "Validation Loss: 0.039\n",
      "Epoch 38/150\n"
     ]
    },
    {
     "name": "stderr",
     "output_type": "stream",
     "text": [
      "100%|██████████| 23/23 [01:12<00:00,  3.14s/it]\n",
      "100%|██████████| 6/6 [00:06<00:00,  1.15s/it]\n"
     ]
    },
    {
     "name": "stdout",
     "output_type": "stream",
     "text": [
      "Training Loss: 0.028\n",
      "Validation Loss: 0.039\n",
      "Epoch 39/150\n"
     ]
    },
    {
     "name": "stderr",
     "output_type": "stream",
     "text": [
      "100%|██████████| 23/23 [01:11<00:00,  3.09s/it]\n",
      "100%|██████████| 6/6 [00:06<00:00,  1.15s/it]\n"
     ]
    },
    {
     "name": "stdout",
     "output_type": "stream",
     "text": [
      "Training Loss: 0.027\n",
      "Validation Loss: 0.039\n",
      "Epoch 40/150\n"
     ]
    },
    {
     "name": "stderr",
     "output_type": "stream",
     "text": [
      "100%|██████████| 23/23 [01:11<00:00,  3.09s/it]\n",
      "100%|██████████| 6/6 [00:06<00:00,  1.15s/it]\n"
     ]
    },
    {
     "name": "stdout",
     "output_type": "stream",
     "text": [
      "Training Loss: 0.027\n",
      "Validation Loss: 0.038\n",
      "Epoch 41/150\n"
     ]
    },
    {
     "name": "stderr",
     "output_type": "stream",
     "text": [
      "100%|██████████| 23/23 [01:12<00:00,  3.14s/it]\n",
      "100%|██████████| 6/6 [00:06<00:00,  1.13s/it]\n"
     ]
    },
    {
     "name": "stdout",
     "output_type": "stream",
     "text": [
      "Training Loss: 0.027\n",
      "Validation Loss: 0.038\n",
      "Epoch 42/150\n"
     ]
    },
    {
     "name": "stderr",
     "output_type": "stream",
     "text": [
      "100%|██████████| 23/23 [01:12<00:00,  3.14s/it]\n",
      "100%|██████████| 6/6 [00:06<00:00,  1.12s/it]\n"
     ]
    },
    {
     "name": "stdout",
     "output_type": "stream",
     "text": [
      "Training Loss: 0.026\n",
      "Validation Loss: 0.038\n",
      "Epoch 43/150\n"
     ]
    },
    {
     "name": "stderr",
     "output_type": "stream",
     "text": [
      "100%|██████████| 23/23 [01:11<00:00,  3.13s/it]\n",
      "100%|██████████| 6/6 [00:06<00:00,  1.12s/it]\n"
     ]
    },
    {
     "name": "stdout",
     "output_type": "stream",
     "text": [
      "Training Loss: 0.026\n",
      "Validation Loss: 0.037\n",
      "Epoch 44/150\n"
     ]
    },
    {
     "name": "stderr",
     "output_type": "stream",
     "text": [
      "100%|██████████| 23/23 [01:13<00:00,  3.19s/it]\n",
      "100%|██████████| 6/6 [00:06<00:00,  1.15s/it]\n"
     ]
    },
    {
     "name": "stdout",
     "output_type": "stream",
     "text": [
      "Training Loss: 0.025\n",
      "Validation Loss: 0.037\n",
      "Epoch 45/150\n"
     ]
    },
    {
     "name": "stderr",
     "output_type": "stream",
     "text": [
      "100%|██████████| 23/23 [01:11<00:00,  3.11s/it]\n",
      "100%|██████████| 6/6 [00:07<00:00,  1.17s/it]\n"
     ]
    },
    {
     "name": "stdout",
     "output_type": "stream",
     "text": [
      "Training Loss: 0.025\n",
      "Validation Loss: 0.037\n",
      "Epoch 46/150\n"
     ]
    },
    {
     "name": "stderr",
     "output_type": "stream",
     "text": [
      "100%|██████████| 23/23 [01:11<00:00,  3.11s/it]\n",
      "100%|██████████| 6/6 [00:06<00:00,  1.15s/it]\n"
     ]
    },
    {
     "name": "stdout",
     "output_type": "stream",
     "text": [
      "Training Loss: 0.025\n",
      "Validation Loss: 0.037\n",
      "Epoch 47/150\n"
     ]
    },
    {
     "name": "stderr",
     "output_type": "stream",
     "text": [
      "100%|██████████| 23/23 [01:11<00:00,  3.13s/it]\n",
      "100%|██████████| 6/6 [00:06<00:00,  1.12s/it]\n"
     ]
    },
    {
     "name": "stdout",
     "output_type": "stream",
     "text": [
      "Training Loss: 0.025\n",
      "Validation Loss: 0.036\n",
      "Epoch 48/150\n"
     ]
    },
    {
     "name": "stderr",
     "output_type": "stream",
     "text": [
      "100%|██████████| 23/23 [01:11<00:00,  3.10s/it]\n",
      "100%|██████████| 6/6 [00:06<00:00,  1.15s/it]\n"
     ]
    },
    {
     "name": "stdout",
     "output_type": "stream",
     "text": [
      "Training Loss: 0.024\n",
      "Validation Loss: 0.036\n",
      "Epoch 49/150\n"
     ]
    },
    {
     "name": "stderr",
     "output_type": "stream",
     "text": [
      "100%|██████████| 23/23 [01:11<00:00,  3.12s/it]\n",
      "100%|██████████| 6/6 [00:06<00:00,  1.11s/it]\n"
     ]
    },
    {
     "name": "stdout",
     "output_type": "stream",
     "text": [
      "Training Loss: 0.024\n",
      "Validation Loss: 0.036\n",
      "Epoch 50/150\n"
     ]
    },
    {
     "name": "stderr",
     "output_type": "stream",
     "text": [
      "100%|██████████| 23/23 [01:12<00:00,  3.14s/it]\n",
      "100%|██████████| 6/6 [00:06<00:00,  1.13s/it]\n"
     ]
    },
    {
     "name": "stdout",
     "output_type": "stream",
     "text": [
      "Training Loss: 0.024\n",
      "Validation Loss: 0.036\n",
      "Epoch 51/150\n"
     ]
    },
    {
     "name": "stderr",
     "output_type": "stream",
     "text": [
      "100%|██████████| 23/23 [01:12<00:00,  3.14s/it]\n",
      "100%|██████████| 6/6 [00:06<00:00,  1.13s/it]\n"
     ]
    },
    {
     "name": "stdout",
     "output_type": "stream",
     "text": [
      "Training Loss: 0.024\n",
      "Validation Loss: 0.036\n",
      "Epoch 52/150\n"
     ]
    },
    {
     "name": "stderr",
     "output_type": "stream",
     "text": [
      "100%|██████████| 23/23 [01:12<00:00,  3.13s/it]\n",
      "100%|██████████| 6/6 [00:06<00:00,  1.14s/it]\n"
     ]
    },
    {
     "name": "stdout",
     "output_type": "stream",
     "text": [
      "Training Loss: 0.023\n",
      "Validation Loss: 0.035\n",
      "Epoch 53/150\n"
     ]
    },
    {
     "name": "stderr",
     "output_type": "stream",
     "text": [
      "100%|██████████| 23/23 [01:12<00:00,  3.17s/it]\n",
      "100%|██████████| 6/6 [00:06<00:00,  1.16s/it]\n"
     ]
    },
    {
     "name": "stdout",
     "output_type": "stream",
     "text": [
      "Training Loss: 0.023\n",
      "Validation Loss: 0.035\n",
      "Epoch 54/150\n"
     ]
    },
    {
     "name": "stderr",
     "output_type": "stream",
     "text": [
      "100%|██████████| 23/23 [01:14<00:00,  3.24s/it]\n",
      "100%|██████████| 6/6 [00:06<00:00,  1.13s/it]\n"
     ]
    },
    {
     "name": "stdout",
     "output_type": "stream",
     "text": [
      "Training Loss: 0.023\n",
      "Validation Loss: 0.035\n",
      "Epoch 55/150\n"
     ]
    },
    {
     "name": "stderr",
     "output_type": "stream",
     "text": [
      "100%|██████████| 23/23 [01:12<00:00,  3.14s/it]\n",
      "100%|██████████| 6/6 [00:06<00:00,  1.09s/it]\n"
     ]
    },
    {
     "name": "stdout",
     "output_type": "stream",
     "text": [
      "Training Loss: 0.023\n",
      "Validation Loss: 0.035\n",
      "Epoch 56/150\n"
     ]
    },
    {
     "name": "stderr",
     "output_type": "stream",
     "text": [
      "100%|██████████| 23/23 [01:11<00:00,  3.13s/it]\n",
      "100%|██████████| 6/6 [00:07<00:00,  1.18s/it]\n"
     ]
    },
    {
     "name": "stdout",
     "output_type": "stream",
     "text": [
      "Training Loss: 0.023\n",
      "Validation Loss: 0.035\n",
      "Epoch 57/150\n"
     ]
    },
    {
     "name": "stderr",
     "output_type": "stream",
     "text": [
      "100%|██████████| 23/23 [01:12<00:00,  3.14s/it]\n",
      "100%|██████████| 6/6 [00:06<00:00,  1.15s/it]\n"
     ]
    },
    {
     "name": "stdout",
     "output_type": "stream",
     "text": [
      "Training Loss: 0.022\n",
      "Validation Loss: 0.035\n",
      "Epoch 58/150\n"
     ]
    },
    {
     "name": "stderr",
     "output_type": "stream",
     "text": [
      "100%|██████████| 23/23 [01:12<00:00,  3.14s/it]\n",
      "100%|██████████| 6/6 [00:06<00:00,  1.13s/it]\n"
     ]
    },
    {
     "name": "stdout",
     "output_type": "stream",
     "text": [
      "Training Loss: 0.022\n",
      "Validation Loss: 0.034\n",
      "Epoch 59/150\n"
     ]
    },
    {
     "name": "stderr",
     "output_type": "stream",
     "text": [
      "100%|██████████| 23/23 [01:11<00:00,  3.12s/it]\n",
      "100%|██████████| 6/6 [00:06<00:00,  1.14s/it]\n"
     ]
    },
    {
     "name": "stdout",
     "output_type": "stream",
     "text": [
      "Training Loss: 0.022\n",
      "Validation Loss: 0.034\n",
      "Epoch 60/150\n"
     ]
    },
    {
     "name": "stderr",
     "output_type": "stream",
     "text": [
      "100%|██████████| 23/23 [01:12<00:00,  3.14s/it]\n",
      "100%|██████████| 6/6 [00:06<00:00,  1.16s/it]\n"
     ]
    },
    {
     "name": "stdout",
     "output_type": "stream",
     "text": [
      "Training Loss: 0.022\n",
      "Validation Loss: 0.034\n",
      "Epoch 61/150\n"
     ]
    },
    {
     "name": "stderr",
     "output_type": "stream",
     "text": [
      "100%|██████████| 23/23 [01:12<00:00,  3.14s/it]\n",
      "100%|██████████| 6/6 [00:07<00:00,  1.18s/it]\n"
     ]
    },
    {
     "name": "stdout",
     "output_type": "stream",
     "text": [
      "Training Loss: 0.022\n",
      "Validation Loss: 0.034\n",
      "Epoch 62/150\n"
     ]
    },
    {
     "name": "stderr",
     "output_type": "stream",
     "text": [
      "100%|██████████| 23/23 [01:12<00:00,  3.16s/it]\n",
      "100%|██████████| 6/6 [00:06<00:00,  1.13s/it]\n"
     ]
    },
    {
     "name": "stdout",
     "output_type": "stream",
     "text": [
      "Training Loss: 0.021\n",
      "Validation Loss: 0.034\n",
      "Epoch 63/150\n"
     ]
    },
    {
     "name": "stderr",
     "output_type": "stream",
     "text": [
      "100%|██████████| 23/23 [01:12<00:00,  3.15s/it]\n",
      "100%|██████████| 6/6 [00:06<00:00,  1.11s/it]\n"
     ]
    },
    {
     "name": "stdout",
     "output_type": "stream",
     "text": [
      "Training Loss: 0.021\n",
      "Validation Loss: 0.034\n",
      "Epoch 64/150\n"
     ]
    },
    {
     "name": "stderr",
     "output_type": "stream",
     "text": [
      "100%|██████████| 23/23 [01:12<00:00,  3.13s/it]\n",
      "100%|██████████| 6/6 [00:06<00:00,  1.10s/it]\n"
     ]
    },
    {
     "name": "stdout",
     "output_type": "stream",
     "text": [
      "Training Loss: 0.021\n",
      "Validation Loss: 0.034\n",
      "Epoch 65/150\n"
     ]
    },
    {
     "name": "stderr",
     "output_type": "stream",
     "text": [
      "100%|██████████| 23/23 [01:11<00:00,  3.11s/it]\n",
      "100%|██████████| 6/6 [00:06<00:00,  1.14s/it]\n"
     ]
    },
    {
     "name": "stdout",
     "output_type": "stream",
     "text": [
      "Training Loss: 0.021\n",
      "Validation Loss: 0.034\n",
      "Epoch 66/150\n"
     ]
    },
    {
     "name": "stderr",
     "output_type": "stream",
     "text": [
      "100%|██████████| 23/23 [01:12<00:00,  3.17s/it]\n",
      "100%|██████████| 6/6 [00:06<00:00,  1.14s/it]\n"
     ]
    },
    {
     "name": "stdout",
     "output_type": "stream",
     "text": [
      "Training Loss: 0.021\n",
      "Validation Loss: 0.033\n",
      "Epoch 67/150\n"
     ]
    },
    {
     "name": "stderr",
     "output_type": "stream",
     "text": [
      "100%|██████████| 23/23 [01:12<00:00,  3.14s/it]\n",
      "100%|██████████| 6/6 [00:06<00:00,  1.11s/it]\n"
     ]
    },
    {
     "name": "stdout",
     "output_type": "stream",
     "text": [
      "Training Loss: 0.020\n",
      "Validation Loss: 0.033\n",
      "Epoch 68/150\n"
     ]
    },
    {
     "name": "stderr",
     "output_type": "stream",
     "text": [
      "100%|██████████| 23/23 [01:12<00:00,  3.14s/it]\n",
      "100%|██████████| 6/6 [00:06<00:00,  1.12s/it]\n"
     ]
    },
    {
     "name": "stdout",
     "output_type": "stream",
     "text": [
      "Training Loss: 0.020\n",
      "Validation Loss: 0.033\n",
      "Epoch 69/150\n"
     ]
    },
    {
     "name": "stderr",
     "output_type": "stream",
     "text": [
      "100%|██████████| 23/23 [01:11<00:00,  3.12s/it]\n",
      "100%|██████████| 6/6 [00:06<00:00,  1.14s/it]\n"
     ]
    },
    {
     "name": "stdout",
     "output_type": "stream",
     "text": [
      "Training Loss: 0.020\n",
      "Validation Loss: 0.033\n",
      "Epoch 70/150\n"
     ]
    },
    {
     "name": "stderr",
     "output_type": "stream",
     "text": [
      "100%|██████████| 23/23 [01:11<00:00,  3.11s/it]\n",
      "100%|██████████| 6/6 [00:06<00:00,  1.16s/it]\n"
     ]
    },
    {
     "name": "stdout",
     "output_type": "stream",
     "text": [
      "Training Loss: 0.020\n",
      "Validation Loss: 0.033\n",
      "Epoch 71/150\n"
     ]
    },
    {
     "name": "stderr",
     "output_type": "stream",
     "text": [
      "100%|██████████| 23/23 [01:12<00:00,  3.17s/it]\n",
      "100%|██████████| 6/6 [00:06<00:00,  1.14s/it]\n"
     ]
    },
    {
     "name": "stdout",
     "output_type": "stream",
     "text": [
      "Training Loss: 0.020\n",
      "Validation Loss: 0.033\n",
      "Epoch 72/150\n"
     ]
    },
    {
     "name": "stderr",
     "output_type": "stream",
     "text": [
      "100%|██████████| 23/23 [01:11<00:00,  3.13s/it]\n",
      "100%|██████████| 6/6 [00:06<00:00,  1.09s/it]\n"
     ]
    },
    {
     "name": "stdout",
     "output_type": "stream",
     "text": [
      "Training Loss: 0.020\n",
      "Validation Loss: 0.033\n",
      "Epoch 73/150\n"
     ]
    },
    {
     "name": "stderr",
     "output_type": "stream",
     "text": [
      "100%|██████████| 23/23 [01:11<00:00,  3.13s/it]\n",
      "100%|██████████| 6/6 [00:06<00:00,  1.10s/it]\n"
     ]
    },
    {
     "name": "stdout",
     "output_type": "stream",
     "text": [
      "Training Loss: 0.019\n",
      "Validation Loss: 0.033\n",
      "Epoch 74/150\n"
     ]
    },
    {
     "name": "stderr",
     "output_type": "stream",
     "text": [
      "100%|██████████| 23/23 [01:12<00:00,  3.15s/it]\n",
      "100%|██████████| 6/6 [00:06<00:00,  1.11s/it]\n"
     ]
    },
    {
     "name": "stdout",
     "output_type": "stream",
     "text": [
      "Training Loss: 0.020\n",
      "Validation Loss: 0.033\n",
      "Epoch 75/150\n"
     ]
    },
    {
     "name": "stderr",
     "output_type": "stream",
     "text": [
      "100%|██████████| 23/23 [01:12<00:00,  3.16s/it]\n",
      "100%|██████████| 6/6 [00:06<00:00,  1.13s/it]\n"
     ]
    },
    {
     "name": "stdout",
     "output_type": "stream",
     "text": [
      "Training Loss: 0.019\n",
      "Validation Loss: 0.033\n",
      "Epoch 76/150\n"
     ]
    },
    {
     "name": "stderr",
     "output_type": "stream",
     "text": [
      "100%|██████████| 23/23 [01:12<00:00,  3.14s/it]\n",
      "100%|██████████| 6/6 [00:06<00:00,  1.14s/it]\n"
     ]
    },
    {
     "name": "stdout",
     "output_type": "stream",
     "text": [
      "Training Loss: 0.019\n",
      "Validation Loss: 0.033\n",
      "Epoch 77/150\n"
     ]
    },
    {
     "name": "stderr",
     "output_type": "stream",
     "text": [
      "100%|██████████| 23/23 [01:11<00:00,  3.13s/it]\n",
      "100%|██████████| 6/6 [00:06<00:00,  1.11s/it]\n"
     ]
    },
    {
     "name": "stdout",
     "output_type": "stream",
     "text": [
      "Training Loss: 0.019\n",
      "Validation Loss: 0.032\n",
      "Epoch 78/150\n"
     ]
    },
    {
     "name": "stderr",
     "output_type": "stream",
     "text": [
      "100%|██████████| 23/23 [01:11<00:00,  3.12s/it]\n",
      "100%|██████████| 6/6 [00:06<00:00,  1.16s/it]\n"
     ]
    },
    {
     "name": "stdout",
     "output_type": "stream",
     "text": [
      "Training Loss: 0.019\n",
      "Validation Loss: 0.032\n",
      "Epoch 79/150\n"
     ]
    },
    {
     "name": "stderr",
     "output_type": "stream",
     "text": [
      "100%|██████████| 23/23 [01:12<00:00,  3.14s/it]\n",
      "100%|██████████| 6/6 [00:06<00:00,  1.10s/it]\n"
     ]
    },
    {
     "name": "stdout",
     "output_type": "stream",
     "text": [
      "Training Loss: 0.019\n",
      "Validation Loss: 0.032\n",
      "Epoch 80/150\n"
     ]
    },
    {
     "name": "stderr",
     "output_type": "stream",
     "text": [
      "100%|██████████| 23/23 [01:12<00:00,  3.14s/it]\n",
      "100%|██████████| 6/6 [00:06<00:00,  1.14s/it]\n"
     ]
    },
    {
     "name": "stdout",
     "output_type": "stream",
     "text": [
      "Training Loss: 0.019\n",
      "Validation Loss: 0.032\n",
      "Epoch 81/150\n"
     ]
    },
    {
     "name": "stderr",
     "output_type": "stream",
     "text": [
      "100%|██████████| 23/23 [01:11<00:00,  3.12s/it]\n",
      "100%|██████████| 6/6 [00:06<00:00,  1.11s/it]\n"
     ]
    },
    {
     "name": "stdout",
     "output_type": "stream",
     "text": [
      "Training Loss: 0.019\n",
      "Validation Loss: 0.032\n",
      "Epoch 82/150\n"
     ]
    },
    {
     "name": "stderr",
     "output_type": "stream",
     "text": [
      "100%|██████████| 23/23 [01:13<00:00,  3.19s/it]\n",
      "100%|██████████| 6/6 [00:06<00:00,  1.15s/it]\n"
     ]
    },
    {
     "name": "stdout",
     "output_type": "stream",
     "text": [
      "Training Loss: 0.018\n",
      "Validation Loss: 0.032\n",
      "Epoch 83/150\n"
     ]
    },
    {
     "name": "stderr",
     "output_type": "stream",
     "text": [
      "100%|██████████| 23/23 [01:12<00:00,  3.15s/it]\n",
      "100%|██████████| 6/6 [00:06<00:00,  1.15s/it]\n"
     ]
    },
    {
     "name": "stdout",
     "output_type": "stream",
     "text": [
      "Training Loss: 0.018\n",
      "Validation Loss: 0.032\n",
      "Epoch 84/150\n"
     ]
    },
    {
     "name": "stderr",
     "output_type": "stream",
     "text": [
      "100%|██████████| 23/23 [01:12<00:00,  3.14s/it]\n",
      "100%|██████████| 6/6 [00:06<00:00,  1.11s/it]\n"
     ]
    },
    {
     "name": "stdout",
     "output_type": "stream",
     "text": [
      "Training Loss: 0.018\n",
      "Validation Loss: 0.032\n",
      "Epoch 85/150\n"
     ]
    },
    {
     "name": "stderr",
     "output_type": "stream",
     "text": [
      "100%|██████████| 23/23 [01:11<00:00,  3.13s/it]\n",
      "100%|██████████| 6/6 [00:06<00:00,  1.11s/it]\n"
     ]
    },
    {
     "name": "stdout",
     "output_type": "stream",
     "text": [
      "Training Loss: 0.018\n",
      "Validation Loss: 0.032\n",
      "Epoch 86/150\n"
     ]
    },
    {
     "name": "stderr",
     "output_type": "stream",
     "text": [
      "100%|██████████| 23/23 [01:12<00:00,  3.15s/it]\n",
      "100%|██████████| 6/6 [00:06<00:00,  1.11s/it]\n"
     ]
    },
    {
     "name": "stdout",
     "output_type": "stream",
     "text": [
      "Training Loss: 0.018\n",
      "Validation Loss: 0.032\n",
      "Epoch 87/150\n"
     ]
    },
    {
     "name": "stderr",
     "output_type": "stream",
     "text": [
      "100%|██████████| 23/23 [01:13<00:00,  3.18s/it]\n",
      "100%|██████████| 6/6 [00:06<00:00,  1.12s/it]\n"
     ]
    },
    {
     "name": "stdout",
     "output_type": "stream",
     "text": [
      "Training Loss: 0.018\n",
      "Validation Loss: 0.032\n",
      "Epoch 88/150\n"
     ]
    },
    {
     "name": "stderr",
     "output_type": "stream",
     "text": [
      "100%|██████████| 23/23 [01:13<00:00,  3.18s/it]\n",
      "100%|██████████| 6/6 [00:06<00:00,  1.09s/it]\n"
     ]
    },
    {
     "name": "stdout",
     "output_type": "stream",
     "text": [
      "Training Loss: 0.018\n",
      "Validation Loss: 0.032\n",
      "Epoch 89/150\n"
     ]
    },
    {
     "name": "stderr",
     "output_type": "stream",
     "text": [
      "100%|██████████| 23/23 [01:14<00:00,  3.23s/it]\n",
      "100%|██████████| 6/6 [00:06<00:00,  1.13s/it]\n"
     ]
    },
    {
     "name": "stdout",
     "output_type": "stream",
     "text": [
      "Training Loss: 0.018\n",
      "Validation Loss: 0.032\n",
      "Epoch 90/150\n"
     ]
    },
    {
     "name": "stderr",
     "output_type": "stream",
     "text": [
      "100%|██████████| 23/23 [01:12<00:00,  3.13s/it]\n",
      "100%|██████████| 6/6 [00:06<00:00,  1.10s/it]\n"
     ]
    },
    {
     "name": "stdout",
     "output_type": "stream",
     "text": [
      "Training Loss: 0.018\n",
      "Validation Loss: 0.032\n",
      "Epoch 91/150\n"
     ]
    },
    {
     "name": "stderr",
     "output_type": "stream",
     "text": [
      "100%|██████████| 23/23 [01:11<00:00,  3.09s/it]\n",
      "100%|██████████| 6/6 [00:06<00:00,  1.11s/it]\n"
     ]
    },
    {
     "name": "stdout",
     "output_type": "stream",
     "text": [
      "Training Loss: 0.017\n",
      "Validation Loss: 0.032\n",
      "Epoch 92/150\n"
     ]
    },
    {
     "name": "stderr",
     "output_type": "stream",
     "text": [
      "100%|██████████| 23/23 [01:12<00:00,  3.17s/it]\n",
      "100%|██████████| 6/6 [00:06<00:00,  1.12s/it]\n"
     ]
    },
    {
     "name": "stdout",
     "output_type": "stream",
     "text": [
      "Training Loss: 0.018\n",
      "Validation Loss: 0.032\n",
      "Epoch 93/150\n"
     ]
    },
    {
     "name": "stderr",
     "output_type": "stream",
     "text": [
      "100%|██████████| 23/23 [01:11<00:00,  3.11s/it]\n",
      "100%|██████████| 6/6 [00:06<00:00,  1.15s/it]\n"
     ]
    },
    {
     "name": "stdout",
     "output_type": "stream",
     "text": [
      "Training Loss: 0.017\n",
      "Validation Loss: 0.032\n",
      "Epoch 94/150\n"
     ]
    },
    {
     "name": "stderr",
     "output_type": "stream",
     "text": [
      "100%|██████████| 23/23 [01:11<00:00,  3.09s/it]\n",
      "100%|██████████| 6/6 [00:06<00:00,  1.14s/it]\n"
     ]
    },
    {
     "name": "stdout",
     "output_type": "stream",
     "text": [
      "Training Loss: 0.017\n",
      "Validation Loss: 0.031\n",
      "Epoch 95/150\n"
     ]
    },
    {
     "name": "stderr",
     "output_type": "stream",
     "text": [
      "100%|██████████| 23/23 [01:11<00:00,  3.09s/it]\n",
      "100%|██████████| 6/6 [00:06<00:00,  1.11s/it]\n"
     ]
    },
    {
     "name": "stdout",
     "output_type": "stream",
     "text": [
      "Training Loss: 0.017\n",
      "Validation Loss: 0.031\n",
      "Epoch 96/150\n"
     ]
    },
    {
     "name": "stderr",
     "output_type": "stream",
     "text": [
      "100%|██████████| 23/23 [01:11<00:00,  3.12s/it]\n",
      "100%|██████████| 6/6 [00:06<00:00,  1.09s/it]\n"
     ]
    },
    {
     "name": "stdout",
     "output_type": "stream",
     "text": [
      "Training Loss: 0.017\n",
      "Validation Loss: 0.031\n",
      "Epoch 97/150\n"
     ]
    },
    {
     "name": "stderr",
     "output_type": "stream",
     "text": [
      "100%|██████████| 23/23 [01:15<00:00,  3.30s/it]\n",
      "100%|██████████| 6/6 [00:06<00:00,  1.13s/it]\n"
     ]
    },
    {
     "name": "stdout",
     "output_type": "stream",
     "text": [
      "Training Loss: 0.017\n",
      "Validation Loss: 0.031\n",
      "Epoch 98/150\n"
     ]
    },
    {
     "name": "stderr",
     "output_type": "stream",
     "text": [
      "100%|██████████| 23/23 [01:13<00:00,  3.22s/it]\n",
      "100%|██████████| 6/6 [00:06<00:00,  1.08s/it]\n"
     ]
    },
    {
     "name": "stdout",
     "output_type": "stream",
     "text": [
      "Training Loss: 0.017\n",
      "Validation Loss: 0.031\n",
      "Epoch 99/150\n"
     ]
    },
    {
     "name": "stderr",
     "output_type": "stream",
     "text": [
      "100%|██████████| 23/23 [01:11<00:00,  3.12s/it]\n",
      "100%|██████████| 6/6 [00:06<00:00,  1.12s/it]\n"
     ]
    },
    {
     "name": "stdout",
     "output_type": "stream",
     "text": [
      "Training Loss: 0.017\n",
      "Validation Loss: 0.031\n",
      "Epoch 100/150\n"
     ]
    },
    {
     "name": "stderr",
     "output_type": "stream",
     "text": [
      "100%|██████████| 23/23 [01:14<00:00,  3.22s/it]\n",
      "100%|██████████| 6/6 [00:06<00:00,  1.12s/it]\n"
     ]
    },
    {
     "name": "stdout",
     "output_type": "stream",
     "text": [
      "Training Loss: 0.017\n",
      "Validation Loss: 0.031\n",
      "Epoch 101/150\n"
     ]
    },
    {
     "name": "stderr",
     "output_type": "stream",
     "text": [
      "100%|██████████| 23/23 [01:11<00:00,  3.12s/it]\n",
      "100%|██████████| 6/6 [00:06<00:00,  1.13s/it]\n"
     ]
    },
    {
     "name": "stdout",
     "output_type": "stream",
     "text": [
      "Training Loss: 0.017\n",
      "Validation Loss: 0.031\n",
      "Epoch 102/150\n"
     ]
    },
    {
     "name": "stderr",
     "output_type": "stream",
     "text": [
      "100%|██████████| 23/23 [01:11<00:00,  3.11s/it]\n",
      "100%|██████████| 6/6 [00:06<00:00,  1.15s/it]\n"
     ]
    },
    {
     "name": "stdout",
     "output_type": "stream",
     "text": [
      "Training Loss: 0.017\n",
      "Validation Loss: 0.031\n",
      "Epoch 103/150\n"
     ]
    },
    {
     "name": "stderr",
     "output_type": "stream",
     "text": [
      "100%|██████████| 23/23 [01:11<00:00,  3.12s/it]\n",
      "100%|██████████| 6/6 [00:06<00:00,  1.13s/it]\n"
     ]
    },
    {
     "name": "stdout",
     "output_type": "stream",
     "text": [
      "Training Loss: 0.017\n",
      "Validation Loss: 0.031\n",
      "Epoch 104/150\n"
     ]
    },
    {
     "name": "stderr",
     "output_type": "stream",
     "text": [
      "100%|██████████| 23/23 [01:12<00:00,  3.15s/it]\n",
      "100%|██████████| 6/6 [00:06<00:00,  1.13s/it]\n"
     ]
    },
    {
     "name": "stdout",
     "output_type": "stream",
     "text": [
      "Training Loss: 0.017\n",
      "Validation Loss: 0.031\n",
      "Epoch 105/150\n"
     ]
    },
    {
     "name": "stderr",
     "output_type": "stream",
     "text": [
      "100%|██████████| 23/23 [01:12<00:00,  3.14s/it]\n",
      "100%|██████████| 6/6 [00:06<00:00,  1.11s/it]\n"
     ]
    },
    {
     "name": "stdout",
     "output_type": "stream",
     "text": [
      "Training Loss: 0.016\n",
      "Validation Loss: 0.031\n",
      "Epoch 106/150\n"
     ]
    },
    {
     "name": "stderr",
     "output_type": "stream",
     "text": [
      "100%|██████████| 23/23 [01:12<00:00,  3.15s/it]\n",
      "100%|██████████| 6/6 [00:06<00:00,  1.12s/it]\n"
     ]
    },
    {
     "name": "stdout",
     "output_type": "stream",
     "text": [
      "Training Loss: 0.016\n",
      "Validation Loss: 0.031\n",
      "Epoch 107/150\n"
     ]
    },
    {
     "name": "stderr",
     "output_type": "stream",
     "text": [
      "100%|██████████| 23/23 [01:10<00:00,  3.08s/it]\n",
      "100%|██████████| 6/6 [00:06<00:00,  1.11s/it]\n"
     ]
    },
    {
     "name": "stdout",
     "output_type": "stream",
     "text": [
      "Training Loss: 0.016\n",
      "Validation Loss: 0.031\n",
      "Epoch 108/150\n"
     ]
    },
    {
     "name": "stderr",
     "output_type": "stream",
     "text": [
      "100%|██████████| 23/23 [01:10<00:00,  3.08s/it]\n",
      "100%|██████████| 6/6 [00:06<00:00,  1.13s/it]\n"
     ]
    },
    {
     "name": "stdout",
     "output_type": "stream",
     "text": [
      "Training Loss: 0.016\n",
      "Validation Loss: 0.031\n",
      "Epoch 109/150\n"
     ]
    },
    {
     "name": "stderr",
     "output_type": "stream",
     "text": [
      "100%|██████████| 23/23 [01:11<00:00,  3.11s/it]\n",
      "100%|██████████| 6/6 [00:06<00:00,  1.09s/it]\n"
     ]
    },
    {
     "name": "stdout",
     "output_type": "stream",
     "text": [
      "Training Loss: 0.016\n",
      "Validation Loss: 0.031\n",
      "Epoch 110/150\n"
     ]
    },
    {
     "name": "stderr",
     "output_type": "stream",
     "text": [
      "100%|██████████| 23/23 [01:11<00:00,  3.09s/it]\n",
      "100%|██████████| 6/6 [00:06<00:00,  1.09s/it]\n"
     ]
    },
    {
     "name": "stdout",
     "output_type": "stream",
     "text": [
      "Training Loss: 0.016\n",
      "Validation Loss: 0.031\n",
      "Epoch 111/150\n"
     ]
    },
    {
     "name": "stderr",
     "output_type": "stream",
     "text": [
      "100%|██████████| 23/23 [01:11<00:00,  3.10s/it]\n",
      "100%|██████████| 6/6 [00:06<00:00,  1.14s/it]\n"
     ]
    },
    {
     "name": "stdout",
     "output_type": "stream",
     "text": [
      "Training Loss: 0.016\n",
      "Validation Loss: 0.031\n",
      "Epoch 112/150\n"
     ]
    },
    {
     "name": "stderr",
     "output_type": "stream",
     "text": [
      "100%|██████████| 23/23 [01:11<00:00,  3.13s/it]\n",
      "100%|██████████| 6/6 [00:06<00:00,  1.10s/it]\n"
     ]
    },
    {
     "name": "stdout",
     "output_type": "stream",
     "text": [
      "Training Loss: 0.016\n",
      "Validation Loss: 0.031\n",
      "Epoch 113/150\n"
     ]
    },
    {
     "name": "stderr",
     "output_type": "stream",
     "text": [
      "100%|██████████| 23/23 [01:11<00:00,  3.13s/it]\n",
      "100%|██████████| 6/6 [00:06<00:00,  1.12s/it]\n"
     ]
    },
    {
     "name": "stdout",
     "output_type": "stream",
     "text": [
      "Training Loss: 0.016\n",
      "Validation Loss: 0.031\n",
      "Epoch 114/150\n"
     ]
    },
    {
     "name": "stderr",
     "output_type": "stream",
     "text": [
      "100%|██████████| 23/23 [01:11<00:00,  3.11s/it]\n",
      "100%|██████████| 6/6 [00:06<00:00,  1.15s/it]\n"
     ]
    },
    {
     "name": "stdout",
     "output_type": "stream",
     "text": [
      "Training Loss: 0.016\n",
      "Validation Loss: 0.031\n",
      "Epoch 115/150\n"
     ]
    },
    {
     "name": "stderr",
     "output_type": "stream",
     "text": [
      "100%|██████████| 23/23 [01:10<00:00,  3.08s/it]\n",
      "100%|██████████| 6/6 [00:06<00:00,  1.12s/it]\n"
     ]
    },
    {
     "name": "stdout",
     "output_type": "stream",
     "text": [
      "Training Loss: 0.016\n",
      "Validation Loss: 0.031\n",
      "Epoch 116/150\n"
     ]
    },
    {
     "name": "stderr",
     "output_type": "stream",
     "text": [
      "100%|██████████| 23/23 [01:11<00:00,  3.11s/it]\n",
      "100%|██████████| 6/6 [00:06<00:00,  1.09s/it]\n"
     ]
    },
    {
     "name": "stdout",
     "output_type": "stream",
     "text": [
      "Training Loss: 0.016\n",
      "Validation Loss: 0.031\n",
      "Epoch 117/150\n"
     ]
    },
    {
     "name": "stderr",
     "output_type": "stream",
     "text": [
      "100%|██████████| 23/23 [01:11<00:00,  3.09s/it]\n",
      "100%|██████████| 6/6 [00:06<00:00,  1.14s/it]\n"
     ]
    },
    {
     "name": "stdout",
     "output_type": "stream",
     "text": [
      "Training Loss: 0.016\n",
      "Validation Loss: 0.031\n",
      "Epoch 118/150\n"
     ]
    },
    {
     "name": "stderr",
     "output_type": "stream",
     "text": [
      "100%|██████████| 23/23 [01:10<00:00,  3.08s/it]\n",
      "100%|██████████| 6/6 [00:06<00:00,  1.12s/it]\n"
     ]
    },
    {
     "name": "stdout",
     "output_type": "stream",
     "text": [
      "Training Loss: 0.016\n",
      "Validation Loss: 0.031\n",
      "Epoch 119/150\n"
     ]
    },
    {
     "name": "stderr",
     "output_type": "stream",
     "text": [
      "100%|██████████| 23/23 [01:11<00:00,  3.12s/it]\n",
      "100%|██████████| 6/6 [00:06<00:00,  1.10s/it]\n"
     ]
    },
    {
     "name": "stdout",
     "output_type": "stream",
     "text": [
      "Training Loss: 0.015\n",
      "Validation Loss: 0.031\n",
      "Epoch 120/150\n"
     ]
    },
    {
     "name": "stderr",
     "output_type": "stream",
     "text": [
      "100%|██████████| 23/23 [01:12<00:00,  3.14s/it]\n",
      "100%|██████████| 6/6 [00:06<00:00,  1.13s/it]\n"
     ]
    },
    {
     "name": "stdout",
     "output_type": "stream",
     "text": [
      "Training Loss: 0.016\n",
      "Validation Loss: 0.031\n",
      "Early stopping triggered. Stopping training.\n"
     ]
    },
    {
     "data": {
      "image/png": "[encoded data removed]",
      "text/plain": [
       "<Figure size 1000x500 with 1 Axes>"
      ]
     },
     "metadata": {},
     "output_type": "display_data"
    },
    {
     "name": "stdout",
     "output_type": "stream",
     "text": [
      "Model weights saved as bert_model_weights.pth\n"
     ]
    }
   ],
   "source": [
    "model, training_stats = train(model, train_dataloader, validation_dataloader, optimizer, scheduler, criterion, device, collate_fn, epochs)\n",
    "save_bert_model(model)"
   ]
  },
  {
   "cell_type": "code",
   "execution_count": 19,
   "id": "3e4cbced-46bb-48b5-8c0f-0c56e7373b1d",
   "metadata": {},
   "outputs": [
    {
     "data": {
      "text/html": [
       "<div>\n",
       "<style scoped>\n",
       "    .dataframe tbody tr th:only-of-type {\n",
       "        vertical-align: middle;\n",
       "    }\n",
       "\n",
       "    .dataframe tbody tr th {\n",
       "        vertical-align: top;\n",
       "    }\n",
       "\n",
       "    .dataframe thead th {\n",
       "        text-align: right;\n",
       "    }\n",
       "</style>\n",
       "<table border=\"1\" class=\"dataframe\">\n",
       "  <thead>\n",
       "    <tr style=\"text-align: right;\">\n",
       "      <th></th>\n",
       "      <th>Training Loss</th>\n",
       "      <th>Validation Loss</th>\n",
       "    </tr>\n",
       "    <tr>\n",
       "      <th>epoch</th>\n",
       "      <th></th>\n",
       "      <th></th>\n",
       "    </tr>\n",
       "  </thead>\n",
       "  <tbody>\n",
       "    <tr>\n",
       "      <th>1</th>\n",
       "      <td>0.180200</td>\n",
       "      <td>0.205397</td>\n",
       "    </tr>\n",
       "    <tr>\n",
       "      <th>2</th>\n",
       "      <td>0.163229</td>\n",
       "      <td>0.184819</td>\n",
       "    </tr>\n",
       "    <tr>\n",
       "      <th>3</th>\n",
       "      <td>0.145277</td>\n",
       "      <td>0.165114</td>\n",
       "    </tr>\n",
       "    <tr>\n",
       "      <th>4</th>\n",
       "      <td>0.129164</td>\n",
       "      <td>0.147414</td>\n",
       "    </tr>\n",
       "    <tr>\n",
       "      <th>5</th>\n",
       "      <td>0.115214</td>\n",
       "      <td>0.132002</td>\n",
       "    </tr>\n",
       "    <tr>\n",
       "      <th>...</th>\n",
       "      <td>...</td>\n",
       "      <td>...</td>\n",
       "    </tr>\n",
       "    <tr>\n",
       "      <th>116</th>\n",
       "      <td>0.015921</td>\n",
       "      <td>0.030704</td>\n",
       "    </tr>\n",
       "    <tr>\n",
       "      <th>117</th>\n",
       "      <td>0.015769</td>\n",
       "      <td>0.030680</td>\n",
       "    </tr>\n",
       "    <tr>\n",
       "      <th>118</th>\n",
       "      <td>0.015583</td>\n",
       "      <td>0.030656</td>\n",
       "    </tr>\n",
       "    <tr>\n",
       "      <th>119</th>\n",
       "      <td>0.015424</td>\n",
       "      <td>0.030671</td>\n",
       "    </tr>\n",
       "    <tr>\n",
       "      <th>120</th>\n",
       "      <td>0.015526</td>\n",
       "      <td>0.030660</td>\n",
       "    </tr>\n",
       "  </tbody>\n",
       "</table>\n",
       "<p>120 rows × 2 columns</p>\n",
       "</div>"
      ],
      "text/plain": [
       "       Training Loss  Validation Loss\n",
       "epoch                                \n",
       "1           0.180200         0.205397\n",
       "2           0.163229         0.184819\n",
       "3           0.145277         0.165114\n",
       "4           0.129164         0.147414\n",
       "5           0.115214         0.132002\n",
       "...              ...              ...\n",
       "116         0.015921         0.030704\n",
       "117         0.015769         0.030680\n",
       "118         0.015583         0.030656\n",
       "119         0.015424         0.030671\n",
       "120         0.015526         0.030660\n",
       "\n",
       "[120 rows x 2 columns]"
      ]
     },
     "execution_count": 19,
     "metadata": {},
     "output_type": "execute_result"
    }
   ],
   "source": [
    "# Create a DataFrame from our training statistics\n",
    "df_stats = pd.DataFrame(data=training_stats)\n",
    "\n",
    "# Use the 'epoch' as the row index\n",
    "df_stats = df_stats.set_index('epoch')\n",
    "\n",
    "# Display the table\n",
    "df_stats"
   ]
  },
  {
   "cell_type": "raw",
   "id": "9876434e-07bf-4b76-8d63-60cf336c6706",
   "metadata": {},
   "source": [
    "Setting model for inference"
   ]
  },
  {
   "cell_type": "code",
   "execution_count": 23,
   "id": "0383fa6a-f877-46f6-91c0-2e9f369fc8b9",
   "metadata": {},
   "outputs": [],
   "source": [
    "# load the test set\n",
    "test_dataset = load_dataset(\"stsb_multi_mt\", name=\"en\", split=\"test\")\n",
    "\n",
    "# Prepare the data\n",
    "first_sent = [i['sentence1'] for i in test_dataset]\n",
    "second_sent = [i['sentence2'] for i in test_dataset]\n",
    "full_text = [[str(x), str(y)] for x,y in zip(first_sent, second_sent)]\n",
    "\n",
    "model.eval()\n",
    "\n",
    "def predict_similarity(sentence_pair):\n",
    "  test_input = tokenizer(sentence_pair, padding='max_length', max_length = 128, truncation=True, return_tensors=\"pt\").to(device)\n",
    "  test_input['input_ids'] = test_input['input_ids']\n",
    "  test_input['attention_mask'] = test_input['attention_mask']\n",
    "  del test_input['token_type_ids']\n",
    "  output = model(test_input)\n",
    "  sim = torch.nn.functional.cosine_similarity(output[0], output[1], dim=0).item()\n",
    "  return sim"
   ]
  },
  {
   "cell_type": "code",
   "execution_count": 24,
   "id": "785ff919-6294-46f9-8785-c173cd249a2e",
   "metadata": {},
   "outputs": [
    {
     "name": "stdout",
     "output_type": "stream",
     "text": [
      "Sentence 1: A cat is walking around a house.\n",
      "Sentence 2: A woman is peeling potato.\n",
      "Predicted similarity score: 0.03\n"
     ]
    }
   ],
   "source": [
    "example_1 = full_text[100]\n",
    "print(f\"Sentence 1: {example_1[0]}\")\n",
    "print(f\"Sentence 2: {example_1[1]}\")\n",
    "print(f\"Predicted similarity score: {round(predict_similarity(example_1), 2)}\")"
   ]
  },
  {
   "cell_type": "code",
   "execution_count": 25,
   "id": "6da205fe-77f0-4043-a5da-dd2e14e085f6",
   "metadata": {},
   "outputs": [
    {
     "name": "stdout",
     "output_type": "stream",
     "text": [
      "Sentence 1: Two men are playing football.\n",
      "Sentence 2: Two men are practicing football.\n",
      "Predicted similarity score: 0.88\n"
     ]
    }
   ],
   "source": [
    "example_2 = full_text[130]\n",
    "print(f\"Sentence 1: {example_2[0]}\")\n",
    "print(f\"Sentence 2: {example_2[1]}\")\n",
    "print(f\"Predicted similarity score: {round(predict_similarity(example_2), 2)}\")"
   ]
  },
  {
   "cell_type": "code",
   "execution_count": 26,
   "id": "12394bb9-864d-4400-8f59-ff43b7642de4",
   "metadata": {},
   "outputs": [
    {
     "name": "stdout",
     "output_type": "stream",
     "text": [
      "Sentence 1: It varies by the situation.\n",
      "Sentence 2: This varies by institution.\n",
      "Predicted similarity score: 0.64\n"
     ]
    }
   ],
   "source": [
    "example_3 = full_text[812]\n",
    "print(f\"Sentence 1: {example_3[0]}\")\n",
    "print(f\"Sentence 2: {example_3[1]}\")\n",
    "print(f\"Predicted similarity score: {round(predict_similarity(example_3), 2)}\")"
   ]
  },
  {
   "cell_type": "code",
   "execution_count": 30,
   "id": "8e651bae-0ce9-4e82-87d2-09e5872aecd4",
   "metadata": {},
   "outputs": [
    {
     "name": "stdout",
     "output_type": "stream",
     "text": [
      "Sentence 1: A man is cutting a potato.\n",
      "Sentence 2: A man is slicing some potato.\n",
      "Predicted similarity score: 0.88\n"
     ]
    }
   ],
   "source": [
    "example_4 = full_text[23]\n",
    "print(f\"Sentence 1: {example_4[0]}\")\n",
    "print(f\"Sentence 2: {example_4[1]}\")\n",
    "print(f\"Predicted similarity score: {round(predict_similarity(example_4), 2)}\")"
   ]
  }
 ],
 "metadata": {
  "kernelspec": {
   "display_name": "Python 3 (ipykernel)",
   "language": "python",
   "name": "python3"
  },
  "language_info": {
   "codemirror_mode": {
    "name": "ipython",
    "version": 3
   },
   "file_extension": ".py",
   "mimetype": "text/x-python",
   "name": "python",
   "nbconvert_exporter": "python",
   "pygments_lexer": "ipython3",
   "version": "3.8.10"
  }
 },
 "nbformat": 4,
 "nbformat_minor": 5
}
