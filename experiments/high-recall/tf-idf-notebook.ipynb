{
  "nbformat": 4,
  "nbformat_minor": 0,
  "metadata": {
    "colab": {
      "provenance": []
    },
    "kernelspec": {
      "name": "python3",
      "display_name": "Python 3"
    },
    "language_info": {
      "name": "python"
    }
  },
  "cells": [
    {
      "cell_type": "code",
      "execution_count": null,
      "metadata": {
        "id": "0Os-F1s5U8uo"
      },
      "outputs": [],
      "source": []
    },
    {
      "cell_type": "markdown",
      "source": [
        "This notebook will present the results of the experiments. The goal of the experiments is to find an optimal preprocessing technique and distance metric. "
      ],
      "metadata": {
        "id": "5w5peJpWVSI6"
      }
    },
    {
      "cell_type": "markdown",
      "source": [
        "Firstly, we will import everything that we need and load the data."
      ],
      "metadata": {
        "id": "J_2xiaRtX3bd"
      }
    },
    {
      "cell_type": "code",
      "source": [
        "import nltk\n",
        "import pandas as pd\n",
        "import numpy as np\n",
        "import spacy\n",
        "#nltk.download('punkt')\n",
        "from sklearn.feature_extraction.text import TfidfVectorizer\n",
        "from scipy.stats import rankdata\n",
        "from data.test_data import original, easy, medium, hard\n",
        "from sklearn.neighbors import NearestNeighbors\n",
        "from nltk.stem import SnowballStemmer\n",
        "\n",
        "\n",
        "corpus_train = pd.read_csv('../../data/insurance_qna_dataset.csv', sep='\\t')\n",
        "corpus = corpus_train.drop(corpus_train.columns[0], axis = 1)\n",
        "corpus_full = list(corpus_train[\"Question\"])+list(corpus_train[\"Answer\"])\n",
        "corpus_train = list(corpus_train[\"Question\"])\n",
        "changed = easy + medium + hard\n",
        "corpus_test = pd.DataFrame({'Original': 3 * original, 'Changed': changed})"
      ],
      "metadata": {
        "id": "QW1gesRkYlQw"
      },
      "execution_count": null,
      "outputs": []
    },
    {
      "cell_type": "markdown",
      "source": [
        "After loading the data, the preprocessing is done."
      ],
      "metadata": {
        "id": "5BGtP2ORYoSa"
      }
    },
    {
      "cell_type": "code",
      "source": [
        "class Lemmatization:\n",
        "    def __init__(self):\n",
        "        self.lem = spacy.load('en_core_web_sm')\n",
        "\n",
        "    def lemmatize_text(self, text):\n",
        "        doc = self.lem(text)\n",
        "        lemmatized_text = ' '.join([token.lemma_ for token in doc])\n",
        "        return lemmatized_text\n",
        "\n",
        "    def lemmatize_dataframe(self, df, column):\n",
        "        df_lemmatized = df.copy()\n",
        "        df_lemmatized[column] = df_lemmatized[column].apply(self.lemmatize_text)\n",
        "        return df_lemmatized\n",
        "\n",
        "class Stemming():\n",
        "    def __init__(self):\n",
        "        self.stemmer = SnowballStemmer(language='english')\n",
        "\n",
        "    def stem_text(self, text):\n",
        "        doc = nltk.word_tokenize(text)\n",
        "        stemmed_text = ' '.join([self.stemmer.stem(token) for token in doc])\n",
        "        return  stemmed_text\n",
        "\n",
        "    def stem_dataframe(self, df, column):\n",
        "        df_stemmed = df.copy()\n",
        "        df_stemmed[column] = df_stemmed[column].apply(self.stem_text)\n",
        "        return df_stemmed\n",
        "\n",
        "\n",
        "stemmer = Stemming()\n",
        "corpus_stemmed = stemmer.stem_dataframe(corpus, 'Question')\n",
        "corpus_stemmed_full = list(corpus_stemmed[\"Question\"])+list(corpus_stemmed[\"Answer\"])\n",
        "corpus_stemmed_questions = list(corpus_stemmed[\"Question\"])\n",
        "\n",
        "\n",
        "lemmatizer = Lemmatization()\n",
        "corpus_lemmatized = lemmatizer.lemmatize_dataframe(corpus, 'Question')\n",
        "corpus_lemmatized_full = list(corpus_lemmatized[\"Question\"])+list(corpus_lemmatized[\"Answer\"])\n",
        "corpus_lemmatized_questions = list(corpus_lemmatized[\"Question\"])"
      ],
      "metadata": {
        "id": "Icgj7Of70XnP"
      },
      "execution_count": null,
      "outputs": []
    },
    {
      "cell_type": "markdown",
      "source": [
        "After preprocessing the data, it is necessary to vectorize the data using TF-IDF (term frequency - inverse document frequency). TF-IDF is a numerical statistic that is intended to reflect how important a word is to a document in a collection or corpus. \n",
        "\n",
        "Also, in the TfIdfVectorizerClass class in constructor is specified which n-grams we want to be extracted. I tried to extract unigrams and bigrams and only unigrams too."
      ],
      "metadata": {
        "id": "Sab3zje60rDw"
      }
    },
    {
      "cell_type": "code",
      "source": [
        "class TfIdfVectorizerClass:\n",
        "    def __init__(self):\n",
        "        self.vectorizer = TfidfVectorizer(ngram_range=(1,2))\n",
        "\n",
        "    def fit(self, corpus):\n",
        "        return self.vectorizer.fit(corpus)\n",
        "\n",
        "    def transform(self, corpus):\n",
        "        return self.vectorizer.transform(corpus)\n",
        "\n",
        "\n",
        "tfidf_vectorizer = TfIdfVectorizerClass()\n",
        "tfidf_vectorizer.fit(corpus_full)\n",
        "tfidf_matrix = tfidf_vectorizer.transform(corpus_train)\n",
        "vectorized = tfidf_vectorizer.transform(corpus_test[\"Changed\"])"
      ],
      "metadata": {
        "id": "osrFiZYq4J9d"
      },
      "execution_count": null,
      "outputs": []
    },
    {
      "cell_type": "markdown",
      "source": [
        "At the end, it is necessary to evaluate the model and metric. It is done by checking if the original question is within 100 nearest neighbors and determining its rank. After that we calulate the mean rank, and the metric with lowest rank is the best one. "
      ],
      "metadata": {
        "id": "sjEwi95f4v3D"
      }
    },
    {
      "cell_type": "code",
      "source": [
        "nbrs_euclidean = NearestNeighbors(n_neighbors=100, metric='euclidean').fit(tfidf_matrix)\n",
        "nbrs_manhattan = NearestNeighbors(n_neighbors=100, metric='manhattan').fit(tfidf_matrix)\n",
        "nbrs_cosine = NearestNeighbors(n_neighbors=100, metric='cosine').fit(tfidf_matrix)\n",
        "\n",
        "def calculate_rank(metric, matrix, corpus_train):\n",
        "    if metric == 'euclidean':\n",
        "        distances, indices = nbrs_euclidean.kneighbors(matrix)\n",
        "    elif metric == 'manhattan':\n",
        "        distances, indices = nbrs_manhattan.kneighbors(matrix)\n",
        "    else:\n",
        "        distances, indices = nbrs_cosine.kneighbors(matrix)\n",
        "\n",
        "\n",
        "    ranks = []\n",
        "    for index_list in indices:\n",
        "        for i, index in enumerate(index_list):\n",
        "            #print(corpus_train.index(corpus_train[index]), index)\n",
        "            if corpus_train.index(corpus_train[index]) == index:\n",
        "                ranks.append(i)\n",
        "            else:\n",
        "                ranks.append(200)\n",
        "    return ranks\n",
        "\n",
        "\n",
        "def calculate_mean_rank(matrix, corpus_train):\n",
        "    euclidean_rank = calculate_rank('euclidean', matrix, corpus_train)\n",
        "    manhattan_rank = calculate_rank('manhattan', matrix, corpus_train)\n",
        "    cosine_rank = calculate_rank('cosine', matrix, corpus_train)\n",
        "\n",
        "    mean_euclidean_rank = np.mean(euclidean_rank)\n",
        "    mean_manhattan_rank = np.mean(manhattan_rank)\n",
        "    mean_cosine_rank = np.mean(cosine_rank)\n",
        "\n",
        "    return mean_euclidean_rank, mean_manhattan_rank, mean_cosine_rank\n",
        "\n",
        "\n",
        "def find_best_metric(matrix, corpus_train):\n",
        "    mean_euclidean_rank, mean_manhattan_rank, mean_cosine_rank = calculate_mean_rank(matrix, corpus_train)\n",
        "    best_rank = min(mean_euclidean_rank, mean_manhattan_rank, mean_cosine_rank)\n",
        "\n",
        "    if best_rank == mean_euclidean_rank:\n",
        "        best_metric = 'euclidean'\n",
        "    elif best_rank == mean_manhattan_rank:\n",
        "        best_metric = 'manhattan'\n",
        "    else:\n",
        "        best_metric = 'cosine'\n",
        "\n",
        "    return print(\"The best metric is\", best_metric, \".Rank is: \", best_rank)\n",
        "    \n",
        "\n",
        "print(\"Mean ranks - euclidean, manhattan & cosine\", calculate_mean_rank(vectorized, corpus_train))\n",
        "print(find_best_metric(vectorized, corpus_train))\n",
        "\n"
      ],
      "metadata": {
        "id": "0QiVOzFI7RIT"
      },
      "execution_count": null,
      "outputs": []
    },
    {
      "cell_type": "code",
      "source": [
        "The results of the experiments are given in the table below. The conclusion is that in the TF-IDF case, it is best to use stemming and manhattan distance, and unigrams + bigrams. \n",
        "(note: only unigrams were tested, but the results were worse)"
      ],
      "metadata": {
        "id": "P54498MO76J2"
      },
      "execution_count": null,
      "outputs": []
    },
    {
      "cell_type": "markdown",
      "source": [
        "![Screenshot (1044).png](data:image/png;base64,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)"
      ],
      "metadata": {
        "id": "69rkTfAaG-RL"
      }
    }
  ]
}